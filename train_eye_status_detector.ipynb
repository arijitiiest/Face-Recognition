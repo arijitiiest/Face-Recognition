{
 "cells": [
  {
   "cell_type": "code",
   "execution_count": 1,
   "metadata": {},
   "outputs": [],
   "source": [
    "import os\n",
    "import cv2\n",
    "import numpy as np"
   ]
  },
  {
   "cell_type": "code",
   "execution_count": 2,
   "metadata": {},
   "outputs": [],
   "source": [
    "from sklearn.model_selection import train_test_split"
   ]
  },
  {
   "cell_type": "code",
   "execution_count": 21,
   "metadata": {},
   "outputs": [],
   "source": [
    "from keras.models import Sequential\n",
    "from keras.layers import Conv2D, AveragePooling2D, Flatten, Dense\n",
    "from keras.models import model_from_json"
   ]
  },
  {
   "cell_type": "markdown",
   "metadata": {},
   "source": [
    "### Read Images"
   ]
  },
  {
   "cell_type": "code",
   "execution_count": 4,
   "metadata": {},
   "outputs": [],
   "source": [
    "FILE_PATH = 'data/dataset_B_Eye_Images'\n",
    "IMG_SIZE = 24\n",
    "\n",
    "def read_images():\n",
    "    images = []\n",
    "    labels = []\n",
    "    for file_name in os.listdir(FILE_PATH):\n",
    "        file_path = FILE_PATH + '/' + file_name\n",
    "        for img_name in os.listdir(file_path):\n",
    "            if not img_name.startswith('.'):\n",
    "                if img_name.endswith('.jpg'):\n",
    "                    img = cv2.imread(file_path + '/' + img_name)\n",
    "                    image = cv2.cvtColor(img, cv2.COLOR_RGB2GRAY)\n",
    "                    new_img = cv2.resize(image, (IMG_SIZE, IMG_SIZE))\n",
    "                    images.append(new_img)\n",
    "                    \n",
    "                    if file_name == 'closedLeftEyes' or file_name == 'closedRightEyes':\n",
    "                        label = 0\n",
    "                    else:\n",
    "                        label = 1\n",
    "                    labels.append(label)\n",
    "    return np.array(images), np.array(labels)"
   ]
  },
  {
   "cell_type": "markdown",
   "metadata": {},
   "source": [
    "### Save model:"
   ]
  },
  {
   "cell_type": "code",
   "execution_count": 5,
   "metadata": {},
   "outputs": [],
   "source": [
    "def save_model(model):\n",
    "    model_json = model.to_json()\n",
    "    with open(\"models/eye_status_model.json\", \"w\") as json_file:\n",
    "        json_file.write(model_json)\n",
    "    # serialize weights to HDF5\n",
    "    model.save_weights(\"models/eye_status_model.h5\")\n",
    "    print(\"Model saved\")"
   ]
  },
  {
   "cell_type": "markdown",
   "metadata": {},
   "source": [
    "### Train model:"
   ]
  },
  {
   "cell_type": "code",
   "execution_count": 6,
   "metadata": {},
   "outputs": [],
   "source": [
    "def train(X_train, y_train):\n",
    "    model = Sequential()\n",
    "\n",
    "    model.add(Conv2D(filters=6, kernel_size=(3, 3), activation='relu', input_shape=(IMG_SIZE,IMG_SIZE,1)))\n",
    "    model.add(AveragePooling2D())\n",
    "\n",
    "    model.add(Conv2D(filters=16, kernel_size=(3, 3), activation='relu'))\n",
    "    model.add(AveragePooling2D())\n",
    "\n",
    "    model.add(Flatten())\n",
    "\n",
    "    model.add(Dense(units=120, activation='relu'))\n",
    "\n",
    "    model.add(Dense(units=84, activation='relu'))\n",
    "\n",
    "    model.add(Dense(units=1, activation = 'sigmoid'))\n",
    "\n",
    "\n",
    "    model.compile(loss='binary_crossentropy', optimizer='adam', metrics=['accuracy'])\n",
    "    \n",
    "    model.fit(X_train,y_train,batch_size=50,epochs=20,verbose=1)\n",
    "    \n",
    "    return model\n"
   ]
  },
  {
   "cell_type": "markdown",
   "metadata": {},
   "source": [
    "### read images:"
   ]
  },
  {
   "cell_type": "code",
   "execution_count": 7,
   "metadata": {},
   "outputs": [],
   "source": [
    "full_data_x, full_data_y = read_images()"
   ]
  },
  {
   "cell_type": "code",
   "execution_count": 8,
   "metadata": {},
   "outputs": [
    {
     "name": "stdout",
     "output_type": "stream",
     "text": [
      "dataset size :  (4846, 24, 24) (4846,)\n"
     ]
    }
   ],
   "source": [
    "print(\"dataset size : \", full_data_x.shape, full_data_y.shape)"
   ]
  },
  {
   "cell_type": "code",
   "execution_count": 9,
   "metadata": {},
   "outputs": [
    {
     "name": "stdout",
     "output_type": "stream",
     "text": [
      "One Image size:  (24, 24)\n"
     ]
    }
   ],
   "source": [
    "print(\"One Image size: \", full_data_x[2].shape)"
   ]
  },
  {
   "cell_type": "code",
   "execution_count": 10,
   "metadata": {},
   "outputs": [],
   "source": [
    "train_x, test_x, train_y, test_y = train_test_split(full_data_x, full_data_y, test_size=0.2)"
   ]
  },
  {
   "cell_type": "markdown",
   "metadata": {},
   "source": [
    "### save data"
   ]
  },
  {
   "cell_type": "code",
   "execution_count": 11,
   "metadata": {},
   "outputs": [],
   "source": [
    "np.save('data/train_imgs.npy', train_x)\n",
    "np.save('data/train_y.npy', train_y)\n",
    "np.save('data/test_imgs.npy', test_x)\n",
    "np.save('data/test_y.npy', test_y)"
   ]
  },
  {
   "cell_type": "markdown",
   "metadata": {},
   "source": [
    "### load data"
   ]
  },
  {
   "cell_type": "code",
   "execution_count": 12,
   "metadata": {},
   "outputs": [],
   "source": [
    "train_x = np.load('data/train_imgs.npy')\n",
    "train_y = np.load('data/train_y.npy')\n",
    "test_x = np.load('data/test_imgs.npy')\n",
    "test_y = np.load('data/test_y.npy')"
   ]
  },
  {
   "cell_type": "code",
   "execution_count": 13,
   "metadata": {},
   "outputs": [
    {
     "data": {
      "text/plain": [
       "((3876, 24, 24), (3876,), (970, 24, 24), (970,))"
      ]
     },
     "execution_count": 13,
     "metadata": {},
     "output_type": "execute_result"
    }
   ],
   "source": [
    "train_x.shape, train_y.shape, test_x.shape, test_y.shape"
   ]
  },
  {
   "cell_type": "code",
   "execution_count": 14,
   "metadata": {},
   "outputs": [],
   "source": [
    "X_train = np.reshape(train_x, (train_x.shape[0], train_x.shape[1], train_x.shape[2], 1))\n",
    "X_test = np.reshape(test_x, (test_x.shape[0], test_x.shape[1], test_x.shape[2], 1))\n",
    "y_train = train_y\n",
    "y_test = test_y"
   ]
  },
  {
   "cell_type": "code",
   "execution_count": 15,
   "metadata": {},
   "outputs": [
    {
     "data": {
      "text/plain": [
       "((3876, 24, 24, 1), (970, 24, 24, 1), (3876,), (970,))"
      ]
     },
     "execution_count": 15,
     "metadata": {},
     "output_type": "execute_result"
    }
   ],
   "source": [
    "X_train.shape, X_test.shape, y_train.shape, y_test.shape"
   ]
  },
  {
   "cell_type": "markdown",
   "metadata": {},
   "source": [
    "### Train model:"
   ]
  },
  {
   "cell_type": "code",
   "execution_count": 20,
   "metadata": {},
   "outputs": [
    {
     "name": "stdout",
     "output_type": "stream",
     "text": [
      "Epoch 1/20\n",
      "3876/3876 [==============================] - 1s 188us/step - loss: 1.1744 - accuracy: 0.7288\n",
      "Epoch 2/20\n",
      "3876/3876 [==============================] - 1s 169us/step - loss: 0.2616 - accuracy: 0.9038\n",
      "Epoch 3/20\n",
      "3876/3876 [==============================] - 1s 162us/step - loss: 0.2166 - accuracy: 0.9118\n",
      "Epoch 4/20\n",
      "3876/3876 [==============================] - 1s 150us/step - loss: 0.1550 - accuracy: 0.9383\n",
      "Epoch 5/20\n",
      "3876/3876 [==============================] - 1s 149us/step - loss: 0.1435 - accuracy: 0.9438\n",
      "Epoch 6/20\n",
      "3876/3876 [==============================] - 1s 144us/step - loss: 0.1370 - accuracy: 0.9458\n",
      "Epoch 7/20\n",
      "3876/3876 [==============================] - 1s 144us/step - loss: 0.1284 - accuracy: 0.9507\n",
      "Epoch 8/20\n",
      "3876/3876 [==============================] - 1s 165us/step - loss: 0.1065 - accuracy: 0.9587\n",
      "Epoch 9/20\n",
      "3876/3876 [==============================] - 1s 166us/step - loss: 0.0975 - accuracy: 0.9613\n",
      "Epoch 10/20\n",
      "3876/3876 [==============================] - 1s 156us/step - loss: 0.1085 - accuracy: 0.9554\n",
      "Epoch 11/20\n",
      "3876/3876 [==============================] - 1s 155us/step - loss: 0.0965 - accuracy: 0.9610\n",
      "Epoch 12/20\n",
      "3876/3876 [==============================] - 1s 153us/step - loss: 0.0853 - accuracy: 0.9641\n",
      "Epoch 13/20\n",
      "3876/3876 [==============================] - 1s 147us/step - loss: 0.0655 - accuracy: 0.9745\n",
      "Epoch 14/20\n",
      "3876/3876 [==============================] - 1s 148us/step - loss: 0.0707 - accuracy: 0.9732\n",
      "Epoch 15/20\n",
      "3876/3876 [==============================] - 1s 153us/step - loss: 0.0565 - accuracy: 0.9783\n",
      "Epoch 16/20\n",
      "3876/3876 [==============================] - 1s 150us/step - loss: 0.0628 - accuracy: 0.9757\n",
      "Epoch 17/20\n",
      "3876/3876 [==============================] - 1s 150us/step - loss: 0.0574 - accuracy: 0.9773\n",
      "Epoch 18/20\n",
      "3876/3876 [==============================] - 1s 149us/step - loss: 0.0457 - accuracy: 0.9827\n",
      "Epoch 19/20\n",
      "3876/3876 [==============================] - 1s 150us/step - loss: 0.0442 - accuracy: 0.9832\n",
      "Epoch 20/20\n",
      "3876/3876 [==============================] - 1s 153us/step - loss: 0.0495 - accuracy: 0.9812\n"
     ]
    }
   ],
   "source": [
    "model = train(X_train, y_train)"
   ]
  },
  {
   "cell_type": "code",
   "execution_count": 17,
   "metadata": {
    "scrolled": true
   },
   "outputs": [
    {
     "name": "stdout",
     "output_type": "stream",
     "text": [
      "Model saved\n"
     ]
    }
   ],
   "source": [
    "save_model(model)"
   ]
  },
  {
   "cell_type": "markdown",
   "metadata": {},
   "source": [
    "### Testing"
   ]
  },
  {
   "cell_type": "code",
   "execution_count": 18,
   "metadata": {},
   "outputs": [
    {
     "name": "stdout",
     "output_type": "stream",
     "text": [
      "970/970 [==============================] - 0s 155us/step\n"
     ]
    }
   ],
   "source": [
    "predictions = model.evaluate(X_test,y_test)"
   ]
  },
  {
   "cell_type": "code",
   "execution_count": 19,
   "metadata": {},
   "outputs": [
    {
     "name": "stdout",
     "output_type": "stream",
     "text": [
      "Accurecy  94.02061700820923\n"
     ]
    }
   ],
   "source": [
    "print(\"Accurecy \", predictions[1]*100)"
   ]
  },
  {
   "cell_type": "code",
   "execution_count": null,
   "metadata": {},
   "outputs": [],
   "source": []
  },
  {
   "cell_type": "markdown",
   "metadata": {},
   "source": [
    "### Predict"
   ]
  },
  {
   "cell_type": "code",
   "execution_count": 27,
   "metadata": {},
   "outputs": [
    {
     "name": "stdout",
     "output_type": "stream",
     "text": [
      "[[0.99980146]]\n"
     ]
    }
   ],
   "source": [
    "img = cv2.imread('data/dataset_B_Eye_Images/openLeftEyes/Alejandro_Gonzalez_Inarritu_0001_L.jpg')\n",
    "image = cv2.cvtColor(img, cv2.COLOR_RGB2GRAY)\n",
    "new_img = cv2.resize(image, (IMG_SIZE, IMG_SIZE))\n",
    "imag = np.reshape(np.array(new_img), (1, IMG_SIZE, IMG_SIZE, 1))\n",
    "prediction = model.predict(imag)\n",
    "print(prediction)"
   ]
  },
  {
   "cell_type": "code",
   "execution_count": null,
   "metadata": {},
   "outputs": [],
   "source": []
  }
 ],
 "metadata": {
  "kernelspec": {
   "display_name": "Python 3",
   "language": "python",
   "name": "python3"
  },
  "language_info": {
   "codemirror_mode": {
    "name": "ipython",
    "version": 3
   },
   "file_extension": ".py",
   "mimetype": "text/x-python",
   "name": "python",
   "nbconvert_exporter": "python",
   "pygments_lexer": "ipython3",
   "version": "3.6.9"
  }
 },
 "nbformat": 4,
 "nbformat_minor": 4
}
